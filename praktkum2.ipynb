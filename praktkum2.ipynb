{
 "cells": [
  {
   "cell_type": "code",
   "execution_count": 3,
   "id": "2834aa5a-8995-4bbf-bae6-51ce7083909c",
   "metadata": {},
   "outputs": [
    {
     "name": "stdout",
     "output_type": "stream",
     "text": [
      "Plain Text Is : HELLO EVERYONE\n",
      "shift pattern is : 1\n",
      "cipher Text Is : IFMMP FWFSZPOF\n"
     ]
    }
   ],
   "source": [
    "def encrypt_text(plaintext, n):\n",
    "    \"\"\"\n",
    "    Fungsi untuk mengenkripsi teks menggunakan Caesar Cipher.\n",
    "\n",
    "    Args:\n",
    "        plaintext (str): Teks yang akan dienkripsi.\n",
    "        n (int): Jumlah pergeseran (shift).\n",
    "\n",
    "    Returns:\n",
    "        str: Teks terenkripsi.\n",
    "    \"\"\"\n",
    "    ans = \"\"\n",
    "    # Iterasi melalui setiap karakter dalam teks plaintext\n",
    "    for char in plaintext:\n",
    "        # Jika karakter adalah spasi, tambahkan spasi langsung ke hasil\n",
    "        if char == \" \":\n",
    "            ans += \" \"\n",
    "        # Jika karakter adalah huruf besar, enkripsi menggunakan Caesar Cipher\n",
    "        elif char.isupper():\n",
    "            ans += chr((ord(char) + n - 65) % 26 + 65)\n",
    "        # Jika karakter adalah huruf kecil, enkripsi menggunakan Caesar Cipher\n",
    "        else:\n",
    "            ans += chr((ord(char) + n - 97) % 26 + 97)\n",
    "\n",
    "    return ans\n",
    "\n",
    "plaintext = \"HELLO EVERYONE\"\n",
    "n = 1\n",
    "print(f\"Plain Text Is : {plaintext}\")\n",
    "print(f\"shift pattern is : {n}\")\n",
    "print(f\"cipher Text Is : {encrypt_text(plaintext, n)}\")"
   ]
  },
  {
   "cell_type": "code",
   "execution_count": null,
   "id": "5ec5b249-248e-4b3d-a567-895870249504",
   "metadata": {},
   "outputs": [],
   "source": []
  }
 ],
 "metadata": {
  "kernelspec": {
   "display_name": "Python [conda env:base] *",
   "language": "python",
   "name": "conda-base-py"
  },
  "language_info": {
   "codemirror_mode": {
    "name": "ipython",
    "version": 3
   },
   "file_extension": ".py",
   "mimetype": "text/x-python",
   "name": "python",
   "nbconvert_exporter": "python",
   "pygments_lexer": "ipython3",
   "version": "3.12.7"
  }
 },
 "nbformat": 4,
 "nbformat_minor": 5
}
